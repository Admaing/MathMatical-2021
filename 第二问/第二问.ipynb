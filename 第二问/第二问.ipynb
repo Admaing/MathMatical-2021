{
 "cells": [
  {
   "cell_type": "code",
   "execution_count": 1,
   "metadata": {
    "collapsed": true
   },
   "outputs": [],
   "source": [
    "import pandas as pd\n",
    "import numpy as np\n",
    "from sklearn.model_selection import train_test_split\n",
    "from sklearn.metrics import mean_squared_error as MSE\n",
    "from sklearn.metrics import mean_absolute_error #平方绝对误差\n",
    "from sklearn.metrics import r2_score#R square\n",
    "from xgboost import XGBRegressor"
   ]
  },
  {
   "cell_type": "code",
   "execution_count": 5,
   "outputs": [
    {
     "name": "stdout",
     "output_type": "stream",
     "text": [
      "mse_score 0.5765207162971963 rmse_score  0.7592896129259219 mae_score  0.5679148961516475 rr_score  0.7165000131209586\n"
     ]
    }
   ],
   "source": [
    "# 读取数据\n",
    "head = pd.read_excel(\"D:\\\\KESHE\\\\keshe\\\\gprj\\\\mathmatical-2021\\\\第一问\\\\已处理数据\\\\随机森林回归模型重要参数选择指数.xlsx\")\n",
    "head_data = head['特征名称'][:19]\n",
    "\n",
    "data = \"Molecular_Descriptor.xlsx\"\n",
    "data = pd.read_excel(\"D:\\\\KESHE\\\\keshe\\\\gprj\\\\mathmatical-2021\\\\第一问\\\\原始数据\\\\\"+data)\n",
    "label = \"ERα_activity.xlsx\"\n",
    "label = pd.read_excel(\"D:\\\\KESHE\\\\keshe\\\\gprj\\\\mathmatical-2021\\\\第一问\\\\原始数据\\\\\"+label)\n",
    "\n",
    "X = pd.DataFrame\n",
    "Y = label[\"pIC50\"]\n",
    "\n",
    "# 取特征\n",
    "head2list = []\n",
    "for i in head_data:\n",
    "    head2list.append(i)\n",
    "X = data[head2list]\n",
    "\n",
    "\n",
    "# 数据集划分\n",
    "x_train, x_test, y_train, y_test = train_test_split(X, Y, test_size=0.3, random_state=1)\n",
    "\n",
    "\n",
    "# 模型建立\n",
    "model_tree =XGBRegressor(learning_rate=0.1, max_depth=5, min_child_weight=6, n_estimators=50, random_state=666)\n",
    "# model_tree = DecisionTreeRegressor()\n",
    "model_tree.fit(x_train,y_train)\n",
    "y_predict = model_tree.predict(x_test)\n",
    "mse_score = MSE(y_test, y_predict)\n",
    "rmse_score = np.sqrt(mse_score)\n",
    "mae_score = mean_absolute_error(y_test, y_predict)\n",
    "rr_score = r2_score(y_test, y_predict)\n",
    "# accuracy = accuracy_score(y_test,y_predict)\n",
    "print(\"mse_score\",mse_score,\"rmse_score \",rmse_score\n",
    "      ,\"mae_score \",mae_score,\"rr_score \",rr_score)\n",
    "# mse_score 0.7959422460656761 rmse_score  0.8921559538924101 mae_score  0.6425700040852864 rr_score  0.6086010269234252"
   ],
   "metadata": {
    "collapsed": false,
    "pycharm": {
     "name": "#%%\n"
    }
   }
  },
  {
   "cell_type": "code",
   "execution_count": 6,
   "outputs": [],
   "source": [
    "# 保存结果\n",
    "data_y = pd.read_excel(\"D:\\\\KESHE\\\\keshe\\\\gprj\\\\mathmatical-2021\\\\第一问\\\\原始数据\\\\ERα_activity.xlsx\",\"test\")\n",
    "data_x = pd.read_excel(\"D:\\\\KESHE\\\\keshe\\\\gprj\\\\mathmatical-2021\\\\第一问\\\\原始数据\\\\Molecular_Descriptor.xlsx\",\"test\")\n",
    "x = data_x[head2list]\n",
    "a = pd.DataFrame()\n",
    "a['结果'] = model_tree.predict(x)\n",
    "a.to_excel(\"D:\\\\KESHE\\\\keshe\\\\gprj\\\\mathmatical-2021\\\\第二问\\\\ER结果.xlsx\")"
   ],
   "metadata": {
    "collapsed": false,
    "pycharm": {
     "name": "#%%\n"
    }
   }
  },
  {
   "cell_type": "code",
   "execution_count": 4,
   "outputs": [
    {
     "data": {
      "text/plain": "['D:\\\\KESHE\\\\keshe\\\\gprj\\\\mathmatical-2021\\\\第二问\\\\model.pkl']"
     },
     "execution_count": 4,
     "metadata": {},
     "output_type": "execute_result"
    }
   ],
   "source": [
    "# 保存模型\n",
    "from sklearn.externals import joblib\n",
    "joblib.dump(model_tree,'D:\\\\KESHE\\\\keshe\\\\gprj\\\\mathmatical-2021\\\\第二问\\\\model.pkl')\n",
    "\n"
   ],
   "metadata": {
    "collapsed": false,
    "pycharm": {
     "name": "#%%\n"
    }
   }
  }
 ],
 "metadata": {
  "kernelspec": {
   "display_name": "Python 3",
   "language": "python",
   "name": "python3"
  },
  "language_info": {
   "codemirror_mode": {
    "name": "ipython",
    "version": 2
   },
   "file_extension": ".py",
   "mimetype": "text/x-python",
   "name": "python",
   "nbconvert_exporter": "python",
   "pygments_lexer": "ipython2",
   "version": "2.7.6"
  }
 },
 "nbformat": 4,
 "nbformat_minor": 0
}