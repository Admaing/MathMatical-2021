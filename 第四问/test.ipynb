{
 "cells": [
  {
   "cell_type": "code",
   "execution_count": 47,
   "outputs": [
    {
     "name": "stdout",
     "output_type": "stream",
     "text": [
      "(72, 729)\n",
      "data_k: (72, 21)\n",
      "(72, 729)\n"
     ]
    }
   ],
   "source": [
    "import pandas as pd\n",
    "import numpy as np\n",
    "import matplotlib.pyplot as plt\n",
    "import sys\n",
    "import seaborn as sns\n",
    "import warnings\n",
    "\n",
    "warnings.filterwarnings(\"ignore\")\n",
    "\n",
    "data_x = pd.read_excel(\"D:\\KESHE\\keshe\\gprj\\mathmatical-2021\\第一问\\原始数据\\Molecular-200.xlsx\")\n",
    "data_y = pd.read_excel(\"D:\\KESHE\\keshe\\gprj\\mathmatical-2021\\第一问\\原始数据\\ER-200.xlsx\")\n",
    "head_data = pd.read_excel(\"D:\\KESHE\\keshe\\gprj\\mathmatical-2021\\第一问\\已处理数据\\随机森林回归模型重要参数选择指数.xlsx\")\n",
    "head_data = head_data['特征名称'][:21]\n",
    "head2list = []\n",
    "\n",
    "for i in head_data:\n",
    "    head2list.append(i)\n",
    "\n",
    "data_x = data_x.iloc[0:,1:]\n",
    "print(data_x.shape)\n",
    "data_y = data_y['IC50_nM']\n",
    "data_k = data_x[head2list]\n",
    "print(\"data_k:\",data_k.shape)\n",
    "# data_x = data_x.drop(head2list, axis=1)\n",
    "print(data_x.shape)"
   ],
   "metadata": {
    "collapsed": false,
    "pycharm": {
     "name": "#%%\n"
    }
   }
  },
  {
   "cell_type": "code",
   "execution_count": 48,
   "outputs": [],
   "source": [
    "from sklearn.externals import joblib\n",
    "model = joblib.load(\"D:\\\\KESHE\\\\keshe\\gprj\\\\mathmatical-2021\\\\第二问\\\\model.pkl\")\n",
    "a = model.predict(data_k)"
   ],
   "metadata": {
    "collapsed": false,
    "pycharm": {
     "name": "#%%\n"
    }
   }
  },
  {
   "cell_type": "code",
   "execution_count": 59,
   "outputs": [
    {
     "data": {
      "text/plain": "<bound method NDFrame.head of     nAcid   ALogP    ALogp2       AMR       apol  naAromAtom  nAromBond  \\\n29      0  2.1136  4.467305  142.4650  71.936204          18         18   \n65      0  1.9798  3.919608   91.2618  46.619860          12         12   \n20      0 -0.0304  0.000924  130.5706  77.263755          12         12   \n44      0  1.4743  2.173560  146.1048  76.162997          18         18   \n66      0  0.8955  0.801920  152.6685  80.872169          23         26   \n\n    nAtom  nHeavyAtom  nH   ...        WTPT-1    WTPT-2     WTPT-3     WTPT-4  \\\n29     60          32  28   ...     66.637710  2.082428  18.341363   8.297882   \n65     40          20  20   ...     39.997873  1.999894   5.042818   5.042818   \n20     67          32  35   ...     66.767621  2.086488  15.463198   8.856322   \n44     62          33  29   ...     68.748923  2.083301  18.011114   8.171676   \n66     69          36  33   ...     74.517708  2.069936  14.780783  11.374138   \n\n      WTPT-5  WPATH  WPOL  XLogP  Zagreb    label  \n29  6.828997   3061    54  2.727     174  20000.0  \n65  0.000000    814    30  4.052      98   5300.0  \n20  3.406617   3313    47  5.446     170   2489.0  \n44  3.406644   3542    52  2.923     176   1300.0  \n66  3.406645   4359    57  4.049     190   1060.0  \n\n[5 rows x 730 columns]>"
     },
     "execution_count": 59,
     "metadata": {},
     "output_type": "execute_result"
    }
   ],
   "source": [
    "data_x['label'] = a\n",
    "\n",
    "data_x = data_x.sort_values(by=\"label\" , ascending=False)\n",
    "data_h = data_x.head()\n",
    "# data_h = data_h[head2list]\n",
    "# by 指定列 ascending\n",
    "data_h.head\n"
   ],
   "metadata": {
    "collapsed": false,
    "pycharm": {
     "name": "#%%\n"
    }
   }
  },
  {
   "cell_type": "code",
   "execution_count": 60,
   "outputs": [],
   "source": [
    "data_h = data_h.drop(\"label\",axis=1)\n",
    "model_XGBR = joblib.load(\"D:\\\\KESHE\\\\keshe\\\\gprj\\\\mathmatical-2021\\\\第三问\\\\model_XGBR.pkl\")\n",
    "model_AdaBR = joblib.load(\"D:\\\\KESHE\\\\keshe\\\\gprj\\\\mathmatical-2021\\\\第三问\\\\model_AdaBR.pkl\")\n",
    "model_RFR = joblib.load(\"D:\\\\KESHE\\\\keshe\\\\gprj\\\\mathmatical-2021\\\\第三问\\\\model_RFR.pkl\")\n",
    "model_svc = joblib.load(\"D:\\\\KESHE\\\\keshe\\\\gprj\\\\mathmatical-2021\\\\第三问\\\\model_svc.pkl\")\n",
    "model_knn = joblib.load(\"D:\\\\KESHE\\\\keshe\\\\gprj\\\\mathmatical-2021\\\\第三问\\\\model_knn.pkl\")"
   ],
   "metadata": {
    "collapsed": false,
    "pycharm": {
     "name": "#%%\n"
    }
   }
  },
  {
   "cell_type": "code",
   "execution_count": 63,
   "outputs": [
    {
     "name": "stdout",
     "output_type": "stream",
     "text": [
      "[1 0 1 1 1]\n",
      "[0 0 0 0 0]\n",
      "[1 0 1 1 1]\n",
      "[0 1 0 0 0]\n",
      "[1 1 0 1 1]\n"
     ]
    }
   ],
   "source": [
    "\n",
    "\n",
    "XGBR = model_XGBR.predict(data_h)\n",
    "AdaBR = model_AdaBR.predict(data_h)\n",
    "RFR = model_RFR.predict(data_h)\n",
    "svc = model_svc.predict(data_h)\n",
    "knn = model_knn.predict(data_h)\n",
    "print(XGBR)\n",
    "print(AdaBR)\n",
    "print(RFR)\n",
    "print(svc)\n",
    "print(knn)"
   ],
   "metadata": {
    "collapsed": false,
    "pycharm": {
     "name": "#%%\n"
    }
   }
  },
  {
   "cell_type": "code",
   "execution_count": null,
   "outputs": [],
   "source": [
    "from sklearn import preprocessing\n",
    "\n",
    "# 方案2"
   ],
   "metadata": {
    "collapsed": false,
    "pycharm": {
     "name": "#%%\n"
    }
   }
  }
 ],
 "metadata": {
  "kernelspec": {
   "display_name": "Python 3",
   "language": "python",
   "name": "python3"
  },
  "language_info": {
   "codemirror_mode": {
    "name": "ipython",
    "version": 2
   },
   "file_extension": ".py",
   "mimetype": "text/x-python",
   "name": "python",
   "nbconvert_exporter": "python",
   "pygments_lexer": "ipython2",
   "version": "2.7.6"
  }
 },
 "nbformat": 4,
 "nbformat_minor": 0
}