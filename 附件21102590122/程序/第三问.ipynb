{
 "cells": [
  {
   "cell_type": "code",
   "execution_count": 1,
   "metadata": {
    "collapsed": true
   },
   "outputs": [],
   "source": []
  },
  {
   "cell_type": "code",
   "execution_count": 2,
   "outputs": [
    {
     "name": "stderr",
     "output_type": "stream",
     "text": [
      "E:\\anaconda3.5\\lib\\site-packages\\sklearn\\ensemble\\weight_boosting.py:29: DeprecationWarning: numpy.core.umath_tests is an internal NumPy module and should not be imported. It will be removed in a future NumPy release.\n",
      "  from numpy.core.umath_tests import inner1d\n"
     ]
    }
   ],
   "source": [
    "from sklearn import preprocessing\n",
    "import pandas as pd\n",
    "import numpy as np\n",
    "import matplotlib.pyplot as plt\n",
    "import sys\n",
    "import seaborn as sns\n",
    "import warnings\n",
    "from sklearn.model_selection import train_test_split\n",
    "from sklearn.ensemble import RandomForestClassifier\n",
    "from sklearn.model_selection import GridSearchCV\n",
    "from sklearn.ensemble import RandomForestRegressor\n",
    "from sklearn.svm import SVC\n",
    "from sklearn.metrics import mean_squared_error as MSE\n",
    "from sklearn.metrics import accuracy_score\n",
    "from sklearn.metrics import mean_absolute_error #平方绝对误差\n",
    "from sklearn.metrics import r2_score#R square\n",
    "from xgboost import XGBClassifier\n",
    "from sklearn.ensemble import RandomForestClassifier\n",
    "from sklearn.ensemble import AdaBoostClassifier\n",
    "from sklearn.neighbors import KNeighborsClassifier\n",
    "from sklearn.preprocessing import StandardScaler"
   ],
   "metadata": {
    "collapsed": false,
    "pycharm": {
     "name": "#%%\n"
    }
   }
  },
  {
   "cell_type": "code",
   "execution_count": 3,
   "outputs": [],
   "source": [
    "# 读取数据\n",
    "data = \"Molecular_Descriptor.xlsx\"\n",
    "data = pd.read_excel(\"D:\\\\KESHE\\\\keshe\\\\gprj\\\\mathmatical-2021\\\\第一问\\\\原始数据\\\\\"+data)\n",
    "label = \"ADMET.xlsx\"\n",
    "label = pd.read_excel(\"D:\\\\KESHE\\\\keshe\\\\gprj\\\\mathmatical-2021\\\\第一问\\\\原始数据\\\\\"+label)\n",
    "\n",
    "Y1 = label['Caco-2']\n",
    "Y2 = label[\"CYP3A4\"]\n",
    "Y3 = label[\"hERG\"]\n",
    "Y4 = label[\"HOB\"]\n",
    "Y5 = label[\"MN\"]\n",
    "\n",
    "X = data.iloc[0:,1:]\n",
    "# scaler = StandardScaler().fit(X)\n",
    "# X = scaler.transform(X)\n",
    "from sklearn.decomposition import PCA\n",
    "pca = PCA(n_components=30)\n",
    "X = pca.fit_transform(X)"
   ],
   "metadata": {
    "collapsed": false,
    "pycharm": {
     "name": "#%%\n"
    }
   }
  },
  {
   "cell_type": "code",
   "execution_count": 4,
   "outputs": [],
   "source": [
    "from sklearn.neural_network import MLPRegressor,MLPClassifier\n",
    "from sklearn.externals import joblib\n",
    "# 数据集划分\n",
    "x1_train, x1_test, y1_train, y1_test = train_test_split(X, Y1, test_size=0.3, random_state=1)\n",
    "x2_train, x2_test, y2_train, y2_test = train_test_split(X, Y2, test_size=0.3, random_state=1)\n",
    "x3_train, x3_test, y3_train, y3_test = train_test_split(X, Y3, test_size=0.3, random_state=1)\n",
    "x4_train, x4_test, y4_train, y4_test = train_test_split(X, Y4, test_size=0.3, random_state=1)\n",
    "x5_train, x5_test, y5_train, y5_test = train_test_split(X, Y5, test_size=0.3, random_state=1)"
   ],
   "metadata": {
    "collapsed": false,
    "pycharm": {
     "name": "#%%\n"
    }
   }
  },
  {
   "cell_type": "code",
   "execution_count": 5,
   "outputs": [
    {
     "name": "stderr",
     "output_type": "stream",
     "text": [
      "E:\\anaconda3.5\\lib\\site-packages\\xgboost\\sklearn.py:892: UserWarning: The use of label encoder in XGBClassifier is deprecated and will be removed in a future release. To remove this warning, do the following: 1) Pass option use_label_encoder=False when constructing XGBClassifier object; and 2) Encode your labels (y) as integers starting with 0, i.e. 0, 1, 2, ..., [num_class - 1].\n",
      "  warnings.warn(label_encoder_deprecation_msg, UserWarning)\n",
      "E:\\anaconda3.5\\lib\\site-packages\\xgboost\\sklearn.py:892: UserWarning: The use of label encoder in XGBClassifier is deprecated and will be removed in a future release. To remove this warning, do the following: 1) Pass option use_label_encoder=False when constructing XGBClassifier object; and 2) Encode your labels (y) as integers starting with 0, i.e. 0, 1, 2, ..., [num_class - 1].\n",
      "  warnings.warn(label_encoder_deprecation_msg, UserWarning)\n",
      "E:\\anaconda3.5\\lib\\site-packages\\xgboost\\sklearn.py:892: UserWarning: The use of label encoder in XGBClassifier is deprecated and will be removed in a future release. To remove this warning, do the following: 1) Pass option use_label_encoder=False when constructing XGBClassifier object; and 2) Encode your labels (y) as integers starting with 0, i.e. 0, 1, 2, ..., [num_class - 1].\n",
      "  warnings.warn(label_encoder_deprecation_msg, UserWarning)\n",
      "E:\\anaconda3.5\\lib\\site-packages\\xgboost\\sklearn.py:892: UserWarning: The use of label encoder in XGBClassifier is deprecated and will be removed in a future release. To remove this warning, do the following: 1) Pass option use_label_encoder=False when constructing XGBClassifier object; and 2) Encode your labels (y) as integers starting with 0, i.e. 0, 1, 2, ..., [num_class - 1].\n",
      "  warnings.warn(label_encoder_deprecation_msg, UserWarning)\n",
      "E:\\anaconda3.5\\lib\\site-packages\\xgboost\\sklearn.py:892: UserWarning: The use of label encoder in XGBClassifier is deprecated and will be removed in a future release. To remove this warning, do the following: 1) Pass option use_label_encoder=False when constructing XGBClassifier object; and 2) Encode your labels (y) as integers starting with 0, i.e. 0, 1, 2, ..., [num_class - 1].\n",
      "  warnings.warn(label_encoder_deprecation_msg, UserWarning)\n",
      "E:\\anaconda3.5\\lib\\site-packages\\sklearn\\preprocessing\\label.py:151: DeprecationWarning: The truth value of an empty array is ambiguous. Returning False, but in future this will result in an error. Use `array.size > 0` to check that an array is not empty.\n",
      "  if diff:\n",
      "E:\\anaconda3.5\\lib\\site-packages\\sklearn\\preprocessing\\label.py:151: DeprecationWarning: The truth value of an empty array is ambiguous. Returning False, but in future this will result in an error. Use `array.size > 0` to check that an array is not empty.\n",
      "  if diff:\n",
      "E:\\anaconda3.5\\lib\\site-packages\\sklearn\\preprocessing\\label.py:151: DeprecationWarning: The truth value of an empty array is ambiguous. Returning False, but in future this will result in an error. Use `array.size > 0` to check that an array is not empty.\n",
      "  if diff:\n",
      "E:\\anaconda3.5\\lib\\site-packages\\sklearn\\preprocessing\\label.py:151: DeprecationWarning: The truth value of an empty array is ambiguous. Returning False, but in future this will result in an error. Use `array.size > 0` to check that an array is not empty.\n",
      "  if diff:\n",
      "E:\\anaconda3.5\\lib\\site-packages\\sklearn\\preprocessing\\label.py:151: DeprecationWarning: The truth value of an empty array is ambiguous. Returning False, but in future this will result in an error. Use `array.size > 0` to check that an array is not empty.\n",
      "  if diff:\n"
     ]
    },
    {
     "name": "stdout",
     "output_type": "stream",
     "text": [
      "[18:15:04] WARNING: D:\\Build\\xgboost\\xgboost-1.3.1.git\\src\\learner.cc:1061: Starting in XGBoost 1.3.0, the default evaluation metric used with the objective 'binary:logistic' was changed from 'error' to 'logloss'. Explicitly set eval_metric if you'd like to restore the old behavior.\n",
      "[18:15:04] WARNING: D:\\Build\\xgboost\\xgboost-1.3.1.git\\src\\learner.cc:1061: Starting in XGBoost 1.3.0, the default evaluation metric used with the objective 'binary:logistic' was changed from 'error' to 'logloss'. Explicitly set eval_metric if you'd like to restore the old behavior.\n",
      "[18:15:04] WARNING: D:\\Build\\xgboost\\xgboost-1.3.1.git\\src\\learner.cc:1061: Starting in XGBoost 1.3.0, the default evaluation metric used with the objective 'binary:logistic' was changed from 'error' to 'logloss'. Explicitly set eval_metric if you'd like to restore the old behavior.\n",
      "[18:15:04] WARNING: D:\\Build\\xgboost\\xgboost-1.3.1.git\\src\\learner.cc:1061: Starting in XGBoost 1.3.0, the default evaluation metric used with the objective 'binary:logistic' was changed from 'error' to 'logloss'. Explicitly set eval_metric if you'd like to restore the old behavior.\n",
      "[18:15:05] WARNING: D:\\Build\\xgboost\\xgboost-1.3.1.git\\src\\learner.cc:1061: Starting in XGBoost 1.3.0, the default evaluation metric used with the objective 'binary:logistic' was changed from 'error' to 'logloss'. Explicitly set eval_metric if you'd like to restore the old behavior.\n"
     ]
    }
   ],
   "source": [
    "\n",
    " # MLPClassifier(solver=’sgd’, activation=’relu’,alpha=1e-4,hidden_layer_sizes=(50,50), random_state=1,max_iter=10,learning_rate_init=.1)\n",
    "\n",
    "# model_svr = SVC(kernel=\"linear\")\n",
    "# model_RFR = RandomForestClassifier(max_depth=10, n_estimators=200, random_state=666)\n",
    "# model_XGBR = XGBClassifier(learning_rate=0.1, max_depth=5, min_child_weight=6, n_estimators=50, random_state=666)\n",
    "# model_AdaBR = AdaBoostClassifier(learning_rate=0.1, n_estimators=50, random_state=666)\n",
    "# model_knn = KNeighborsClassifier(weights=\"uniform\")\n",
    "# model_svr =  MLPClassifier(solver='sgd', activation='relu',alpha=1e-4,hidden_layer_sizes=(500,500), random_state=1,max_iter=10,learning_rate_init=.1)\n",
    "#\n",
    "# model_RFR = MLPClassifier(solver='sgd', activation='relu',alpha=1e-4,hidden_layer_sizes=(500,500), random_state=1,max_iter=10,learning_rate_init=.1)\n",
    "# model_XGBR = MLPClassifier(solver='sgd', activation='relu',alpha=1e-4,hidden_layer_sizes=(500,500), random_state=1,max_iter=10,learning_rate_init=.1)\n",
    "# model_AdaBR = MLPClassifier(solver='sgd', activation='relu',alpha=1e-4,hidden_layer_sizes=(500,500), random_state=1,max_iter=10,learning_rate_init=.1)\n",
    "# model_knn = MLPClassifier(solver='sgd', activation='relu',alpha=1e-4,hidden_layer_sizes=(500,500), random_state=1,max_iter=10,learning_rate_init=.1)\n",
    "\n",
    "model_svr =XGBClassifier(learning_rate=0.1, max_depth=5, min_child_weight=6, n_estimators=50, random_state=666)\n",
    "model_RFR =XGBClassifier(learning_rate=0.1, max_depth=5, min_child_weight=6, n_estimators=50, random_state=666)\n",
    "model_XGBR =XGBClassifier(learning_rate=0.1, max_depth=5, min_child_weight=6, n_estimators=50, random_state=666)\n",
    "model_AdaBR =XGBClassifier(learning_rate=0.1, max_depth=5, min_child_weight=6, n_estimators=50, random_state=666)\n",
    "model_knn =XGBClassifier(learning_rate=0.1, max_depth=5, min_child_weight=6, n_estimators=50, random_state=666)\n",
    "model_svr =  XGBClassifier(learning_rate=0.1, max_depth=5, min_child_weight=6, n_estimators=50, random_state=666)\n",
    "\n",
    "model_svr.fit(x1_train,y1_train)\n",
    "model_RFR.fit(x2_train,y2_train)\n",
    "model_XGBR.fit(x3_train,y3_train)\n",
    "model_AdaBR.fit(x4_train,y4_train)\n",
    "model_knn.fit(x5_train,y5_train)\n",
    "\n",
    "data_x = pd.read_excel(\"D:\\\\KESHE\\\\keshe\\\\gprj\\\\mathmatical-2021\\\\第一问\\\\原始数据\\\\Molecular_Descriptor.xlsx\",\"test\")\n",
    "x = data_x.iloc[0:,1:]\n",
    "a = pd.DataFrame()\n",
    "x = pca.fit_transform(x)\n",
    "\n",
    "a['Caco-2'] = model_svr.predict(x)\n",
    "a[\"CYP3A4\"] = model_RFR.predict(x)\n",
    "a[\"hERG\"] =model_XGBR.predict(x)\n",
    "a[\"HOB\"]=model_AdaBR.predict(x)\n",
    "a[\"MN\"]=model_knn.predict(x)\n",
    "\n",
    "a.to_excel(\"D:\\\\KESHE\\\\keshe\\\\gprj\\\\mathmatical-2021\\\\第三问\\\\结果.xlsx\")"
   ],
   "metadata": {
    "collapsed": false,
    "pycharm": {
     "name": "#%%\n"
    }
   }
  },
  {
   "cell_type": "code",
   "execution_count": 6,
   "outputs": [
    {
     "name": "stdout",
     "output_type": "stream",
     "text": [
      "mse_score 0.08431703204047218 rmse_score  0.2903739520695205 mae_score  0.08431703204047218 rr_score  0.6313564590326992 accuracy 0.9156829679595279  0.08431703204047218\n",
      "mse_score 0.05396290050590219 rmse_score  0.23229916165561637 mae_score  0.05396290050590219 rr_score  0.7105640462463012 accuracy 0.9460370994940978  0.05396290050590219\n",
      "mse_score 0.11804384485666104 rmse_score  0.3435750934754454 mae_score  0.11804384485666104 rr_score  0.5188473664688428 accuracy 0.8819561551433389  0.11804384485666104\n",
      "mse_score 0.16863406408094436 rmse_score  0.41065078117659093 mae_score  0.16863406408094436 rr_score  0.12285891784752834 accuracy 0.8313659359190556  0.16863406408094436\n",
      "mse_score 0.07588532883642496 rmse_score  0.2754729185172745 mae_score  0.07588532883642496 rr_score  0.5812935417058934 accuracy 0.924114671163575  0.07588532883642496\n"
     ]
    },
    {
     "name": "stderr",
     "output_type": "stream",
     "text": [
      "E:\\anaconda3.5\\lib\\site-packages\\sklearn\\preprocessing\\label.py:151: DeprecationWarning: The truth value of an empty array is ambiguous. Returning False, but in future this will result in an error. Use `array.size > 0` to check that an array is not empty.\n",
      "  if diff:\n",
      "E:\\anaconda3.5\\lib\\site-packages\\sklearn\\preprocessing\\label.py:151: DeprecationWarning: The truth value of an empty array is ambiguous. Returning False, but in future this will result in an error. Use `array.size > 0` to check that an array is not empty.\n",
      "  if diff:\n",
      "E:\\anaconda3.5\\lib\\site-packages\\sklearn\\preprocessing\\label.py:151: DeprecationWarning: The truth value of an empty array is ambiguous. Returning False, but in future this will result in an error. Use `array.size > 0` to check that an array is not empty.\n",
      "  if diff:\n",
      "E:\\anaconda3.5\\lib\\site-packages\\sklearn\\preprocessing\\label.py:151: DeprecationWarning: The truth value of an empty array is ambiguous. Returning False, but in future this will result in an error. Use `array.size > 0` to check that an array is not empty.\n",
      "  if diff:\n",
      "E:\\anaconda3.5\\lib\\site-packages\\sklearn\\preprocessing\\label.py:151: DeprecationWarning: The truth value of an empty array is ambiguous. Returning False, but in future this will result in an error. Use `array.size > 0` to check that an array is not empty.\n",
      "  if diff:\n",
      "E:\\anaconda3.5\\lib\\site-packages\\sklearn\\preprocessing\\label.py:151: DeprecationWarning: The truth value of an empty array is ambiguous. Returning False, but in future this will result in an error. Use `array.size > 0` to check that an array is not empty.\n",
      "  if diff:\n",
      "E:\\anaconda3.5\\lib\\site-packages\\sklearn\\preprocessing\\label.py:151: DeprecationWarning: The truth value of an empty array is ambiguous. Returning False, but in future this will result in an error. Use `array.size > 0` to check that an array is not empty.\n",
      "  if diff:\n",
      "E:\\anaconda3.5\\lib\\site-packages\\sklearn\\preprocessing\\label.py:151: DeprecationWarning: The truth value of an empty array is ambiguous. Returning False, but in future this will result in an error. Use `array.size > 0` to check that an array is not empty.\n",
      "  if diff:\n",
      "E:\\anaconda3.5\\lib\\site-packages\\sklearn\\preprocessing\\label.py:151: DeprecationWarning: The truth value of an empty array is ambiguous. Returning False, but in future this will result in an error. Use `array.size > 0` to check that an array is not empty.\n",
      "  if diff:\n",
      "E:\\anaconda3.5\\lib\\site-packages\\sklearn\\preprocessing\\label.py:151: DeprecationWarning: The truth value of an empty array is ambiguous. Returning False, but in future this will result in an error. Use `array.size > 0` to check that an array is not empty.\n",
      "  if diff:\n",
      "E:\\anaconda3.5\\lib\\site-packages\\sklearn\\preprocessing\\label.py:151: DeprecationWarning: The truth value of an empty array is ambiguous. Returning False, but in future this will result in an error. Use `array.size > 0` to check that an array is not empty.\n",
      "  if diff:\n",
      "E:\\anaconda3.5\\lib\\site-packages\\sklearn\\preprocessing\\label.py:151: DeprecationWarning: The truth value of an empty array is ambiguous. Returning False, but in future this will result in an error. Use `array.size > 0` to check that an array is not empty.\n",
      "  if diff:\n",
      "E:\\anaconda3.5\\lib\\site-packages\\sklearn\\preprocessing\\label.py:151: DeprecationWarning: The truth value of an empty array is ambiguous. Returning False, but in future this will result in an error. Use `array.size > 0` to check that an array is not empty.\n",
      "  if diff:\n",
      "E:\\anaconda3.5\\lib\\site-packages\\sklearn\\preprocessing\\label.py:151: DeprecationWarning: The truth value of an empty array is ambiguous. Returning False, but in future this will result in an error. Use `array.size > 0` to check that an array is not empty.\n",
      "  if diff:\n",
      "E:\\anaconda3.5\\lib\\site-packages\\sklearn\\preprocessing\\label.py:151: DeprecationWarning: The truth value of an empty array is ambiguous. Returning False, but in future this will result in an error. Use `array.size > 0` to check that an array is not empty.\n",
      "  if diff:\n",
      "E:\\anaconda3.5\\lib\\site-packages\\sklearn\\preprocessing\\label.py:151: DeprecationWarning: The truth value of an empty array is ambiguous. Returning False, but in future this will result in an error. Use `array.size > 0` to check that an array is not empty.\n",
      "  if diff:\n",
      "E:\\anaconda3.5\\lib\\site-packages\\sklearn\\preprocessing\\label.py:151: DeprecationWarning: The truth value of an empty array is ambiguous. Returning False, but in future this will result in an error. Use `array.size > 0` to check that an array is not empty.\n",
      "  if diff:\n",
      "E:\\anaconda3.5\\lib\\site-packages\\sklearn\\preprocessing\\label.py:151: DeprecationWarning: The truth value of an empty array is ambiguous. Returning False, but in future this will result in an error. Use `array.size > 0` to check that an array is not empty.\n",
      "  if diff:\n",
      "E:\\anaconda3.5\\lib\\site-packages\\sklearn\\preprocessing\\label.py:151: DeprecationWarning: The truth value of an empty array is ambiguous. Returning False, but in future this will result in an error. Use `array.size > 0` to check that an array is not empty.\n",
      "  if diff:\n",
      "E:\\anaconda3.5\\lib\\site-packages\\sklearn\\preprocessing\\label.py:151: DeprecationWarning: The truth value of an empty array is ambiguous. Returning False, but in future this will result in an error. Use `array.size > 0` to check that an array is not empty.\n",
      "  if diff:\n"
     ]
    }
   ],
   "source": [
    "# 求mse 等值\n",
    "mse_score = MSE(y1_test, model_svr.predict(x1_test))\n",
    "rmse_score = np.sqrt(mse_score)\n",
    "mae_score = mean_absolute_error(y1_test, model_svr.predict(x1_test))\n",
    "rr_score = r2_score(y1_test, model_svr.predict(x1_test))\n",
    "accuracy = accuracy_score(y1_test,model_svr.predict(x1_test))\n",
    "print(\"mse_score\",mse_score,\"rmse_score \",rmse_score\n",
    "      ,\"mae_score \",mae_score,\"rr_score \",rr_score,\"accuracy\",accuracy,\"\",mse_score)\n",
    "\n",
    "\n",
    "mse_score = MSE(y2_test, model_RFR.predict(x2_test))\n",
    "rmse_score = np.sqrt(mse_score)\n",
    "mae_score = mean_absolute_error(y2_test, model_RFR.predict(x2_test))\n",
    "rr_score = r2_score(y2_test, model_RFR.predict(x2_test))\n",
    "accuracy = accuracy_score(y2_test,model_RFR.predict(x2_test))\n",
    "print(\"mse_score\",mse_score,\"rmse_score \",rmse_score\n",
    "      ,\"mae_score \",mae_score,\"rr_score \",rr_score,\"accuracy\",accuracy,\"\",mse_score)\n",
    "\n",
    "\n",
    "mse_score = MSE(y3_test, model_XGBR.predict(x3_test))\n",
    "rmse_score = np.sqrt(mse_score)\n",
    "mae_score = mean_absolute_error(y3_test, model_XGBR.predict(x3_test))\n",
    "rr_score = r2_score(y3_test, model_XGBR.predict(x3_test))\n",
    "accuracy = accuracy_score(y3_test,model_XGBR.predict(x3_test))\n",
    "print(\"mse_score\",mse_score,\"rmse_score \",rmse_score\n",
    "      ,\"mae_score \",mae_score,\"rr_score \",rr_score,\"accuracy\",accuracy,\"\",mse_score)\n",
    "\n",
    "\n",
    "mse_score = MSE(y4_test, model_AdaBR.predict(x4_test))\n",
    "rmse_score = np.sqrt(mse_score)\n",
    "mae_score = mean_absolute_error(y4_test, model_AdaBR.predict(x4_test))\n",
    "rr_score = r2_score(y4_test, model_AdaBR.predict(x4_test))\n",
    "accuracy = accuracy_score(y4_test,model_AdaBR.predict(x4_test))\n",
    "print(\"mse_score\",mse_score,\"rmse_score \",rmse_score\n",
    "      ,\"mae_score \",mae_score,\"rr_score \",rr_score,\"accuracy\",accuracy,\"\",mse_score)\n",
    "\n",
    "\n",
    "mse_score = MSE(y5_test, model_knn.predict(x5_test))\n",
    "rmse_score = np.sqrt(mse_score)\n",
    "mae_score = mean_absolute_error(y5_test, model_knn.predict(x5_test))\n",
    "rr_score = r2_score(y5_test, model_knn.predict(x5_test))\n",
    "accuracy = accuracy_score(y5_test,model_knn.predict(x5_test))\n",
    "print(\"mse_score\",mse_score,\"rmse_score \",rmse_score\n",
    "      ,\"mae_score \",mae_score,\"rr_score \",rr_score,\"accuracy\",accuracy,\"\",mse_score)\n"
   ],
   "metadata": {
    "collapsed": false,
    "pycharm": {
     "name": "#%%\n"
    }
   }
  },
  {
   "cell_type": "code",
   "execution_count": 7,
   "outputs": [
    {
     "data": {
      "text/plain": "['D:\\\\KESHE\\\\keshe\\\\gprj\\\\mathmatical-2021\\\\第三问\\\\model_5.pkl']"
     },
     "execution_count": 7,
     "metadata": {},
     "output_type": "execute_result"
    }
   ],
   "source": [
    "joblib.dump(model_svr,\"D:\\\\KESHE\\\\keshe\\\\gprj\\\\mathmatical-2021\\\\第三问\\\\model_1.pkl\")\n",
    "joblib.dump(model_RFR,\"D:\\\\KESHE\\\\keshe\\\\gprj\\\\mathmatical-2021\\\\第三问\\\\model_2.pkl\")\n",
    "joblib.dump(model_knn,\"D:\\\\KESHE\\\\keshe\\\\gprj\\\\mathmatical-2021\\\\第三问\\\\model_3.pkl\")\n",
    "joblib.dump(model_XGBR,\"D:\\\\KESHE\\\\keshe\\\\gprj\\\\mathmatical-2021\\\\第三问\\\\model_4.pkl\")\n",
    "joblib.dump(model_AdaBR,\"D:\\\\KESHE\\\\keshe\\\\gprj\\\\mathmatical-2021\\\\第三问\\\\model_5.pkl\")\n",
    "\n"
   ],
   "metadata": {
    "collapsed": false,
    "pycharm": {
     "name": "#%%\n"
    }
   }
  }
 ],
 "metadata": {
  "kernelspec": {
   "display_name": "Python 3",
   "language": "python",
   "name": "python3"
  },
  "language_info": {
   "codemirror_mode": {
    "name": "ipython",
    "version": 2
   },
   "file_extension": ".py",
   "mimetype": "text/x-python",
   "name": "python",
   "nbconvert_exporter": "python",
   "pygments_lexer": "ipython2",
   "version": "2.7.6"
  }
 },
 "nbformat": 4,
 "nbformat_minor": 0
}